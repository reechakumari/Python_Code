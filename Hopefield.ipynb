{
  "nbformat": 4,
  "nbformat_minor": 0,
  "metadata": {
    "colab": {
      "name": "Hopefield.ipynb",
      "provenance": [],
      "authorship_tag": "ABX9TyMwckuveaZbM8aQcfke0Dcp",
      "include_colab_link": true
    },
    "kernelspec": {
      "name": "python3",
      "display_name": "Python 3"
    }
  },
  "cells": [
    {
      "cell_type": "markdown",
      "metadata": {
        "id": "view-in-github",
        "colab_type": "text"
      },
      "source": [
        "<a href=\"https://colab.research.google.com/github/reechakumari/Python_Code/blob/master/Hopefield.ipynb\" target=\"_parent\"><img src=\"https://colab.research.google.com/assets/colab-badge.svg\" alt=\"Open In Colab\"/></a>"
      ]
    },
    {
      "cell_type": "code",
      "metadata": {
        "colab": {
          "base_uri": "https://localhost:8080/"
        },
        "id": "lObGtUb67Zyl",
        "outputId": "69f745bc-c559-4277-c379-8a2fafe876cd"
      },
      "source": [
        "import numpy as np\n",
        "x=np.array([[1,1,1,1,1],[1,-1,-1,1,-1],[-1,1,-1,-1,-1]])\n",
        "x1=np.transpose(x)\n",
        "t1=np.array([[1,1,1,-1,1]])\n",
        "t2=np.array([[1,-1,-1,-1,-1]])\n",
        "t3=np.array([[1,1,-1,-1,-1]])\n",
        "w=np.zeros((5,5))\n",
        "\n",
        "\n",
        "i=0\n",
        "j=0\n",
        "k=0\n",
        "for i in range(len(x1)):\n",
        "  for j in range(len(x[0])):\n",
        "    for k in range(len(x)):\n",
        "      w[i][j] += x1[i][k] * x[k][j]\n",
        "\n",
        "print('Weight Matrix:\\n')\n",
        "for r in w:\n",
        "  print(r)\n",
        "\n",
        "print('\\n\\nWeight Matrix with no self connection:\\n')\n",
        "i=0\n",
        "j=0\n",
        "for i in range(int(5)):\n",
        "  for j in range(int(5)):\n",
        "    if(i==j):\n",
        "      w[i][j]=0\n",
        "\n",
        "for r in w:\n",
        "  print(r) \n",
        "\n",
        "E1=0\n",
        "E2=0\n",
        "E3=0\n",
        "x11= x[0].reshape(5,1)\n",
        "x12=x[1].reshape(5,1)\n",
        "x13=x[2].reshape(5,1)"
      ],
      "execution_count": 44,
      "outputs": [
        {
          "output_type": "stream",
          "text": [
            "Weight Matrix:\n",
            "\n",
            "[ 3. -1.  1.  3.  1.]\n",
            "[-1.  3.  1. -1.  1.]\n",
            "[1. 1. 3. 1. 3.]\n",
            "[ 3. -1.  1.  3.  1.]\n",
            "[1. 1. 3. 1. 3.]\n",
            "\n",
            "\n",
            "Weight Matrix with no self connection:\n",
            "\n",
            "[ 0. -1.  1.  3.  1.]\n",
            "[-1.  0.  1. -1.  1.]\n",
            "[1. 1. 0. 1. 3.]\n",
            "[ 3. -1.  1.  0.  1.]\n",
            "[1. 1. 3. 1. 0.]\n"
          ],
          "name": "stdout"
        }
      ]
    },
    {
      "cell_type": "code",
      "metadata": {
        "colab": {
          "base_uri": "https://localhost:8080/"
        },
        "id": "oqnPTxcq9DeN",
        "outputId": "a0d43bd7-4ff9-468e-cc0c-866f69aa5780"
      },
      "source": [
        "E1= -0.5 * np.matmul(x[0],np.matmul(w,x11))\n",
        "print('\\nEnergy Calculations for pattern [1,1,1,1,1]:',E1)\n",
        "\n",
        "E2= -0.5 * np.matmul(x[1],np.matmul(w,x12))\n",
        "print('\\nEnergy Calculations for pattern [1,-1,-1,1,-1]:',E2)\n",
        "\n",
        "E3= -0.5 * np.matmul(x[2],np.matmul(w,x13))\n",
        "print('\\nEnergy Calculations for pattern [-1,1,-1,1,-1]:',E3)\n"
      ],
      "execution_count": 45,
      "outputs": [
        {
          "output_type": "stream",
          "text": [
            "\n",
            "Energy Calculations for pattern [1,1,1,1,1]: [-10.]\n",
            "\n",
            "Energy Calculations for pattern [1,-1,-1,1,-1]: [-6.]\n",
            "\n",
            "Energy Calculations for pattern [-1,1,-1,1,-1]: [-10.]\n"
          ],
          "name": "stdout"
        }
      ]
    },
    {
      "cell_type": "code",
      "metadata": {
        "colab": {
          "base_uri": "https://localhost:8080/"
        },
        "id": "srsxK9Vf9U00",
        "outputId": "4865a39a-77d4-4202-e973-bf6ae7a96da2"
      },
      "source": [
        "print('\\n\\nTESTING PHASE')\n",
        "\n",
        "\n",
        "w_dash=np.transpose(w)\n",
        "Yin1=t1[0][3]+ np.matmul(x[0],w_dash[3])\n",
        "if(Yin1>0):\n",
        "  t1[0][3]=1\n",
        "else:\n",
        "  t1[0][3]=-1\n",
        "\n",
        "if((t1==x).any()):\n",
        "  print('\\nPattern [1,1,1,-1,1] Recognized ')\n",
        "else:\n",
        "  print('\\nPattern [1,1,1,-1,1] not Recognized ')    \n",
        "\n",
        "Yin2=t2[0][3]+ np.matmul(x[1],w_dash[3])\n",
        "if(Yin2>0):\n",
        "  t2[0][3]=1\n",
        "else:\n",
        "  t2[0][3]=-1\n",
        "\n",
        "if((t2==x).any()):\n",
        "  print('\\nPattern [1,-1,-1,-1,-1] Recognized ')\n",
        "else:\n",
        "  print('\\nPattern [1,-1,-1,-1,-1] not Recognized ')  \n",
        "\n",
        "Yin3=t3[0][0]+ np.matmul(x[2],w_dash[0])\n",
        "if(Yin3>0):\n",
        "  t3[0][0]=1\n",
        "else:\n",
        "  t3[0][0]=-1\n",
        "\n",
        "if((t3==x).any()):\n",
        "  print('\\nPattern [1,1,-1,-1,-1] Recognized ')\n",
        "else:\n",
        "  print('\\nPattern [1,1,-1,-1,-1] not Recognized ')  "
      ],
      "execution_count": 47,
      "outputs": [
        {
          "output_type": "stream",
          "text": [
            "\n",
            "\n",
            "TESTING PHASE\n",
            "\n",
            "Pattern [1,1,1,-1,1] Recognized \n",
            "\n",
            "Pattern [1,-1,-1,-1,-1] Recognized \n",
            "\n",
            "Pattern [1,1,-1,-1,-1] Recognized \n"
          ],
          "name": "stdout"
        }
      ]
    },
    {
      "cell_type": "code",
      "metadata": {
        "id": "8RlPnWWb-WcG"
      },
      "source": [
        ""
      ],
      "execution_count": null,
      "outputs": []
    }
  ]
}