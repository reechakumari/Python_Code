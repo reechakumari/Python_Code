{
  "nbformat": 4,
  "nbformat_minor": 0,
  "metadata": {
    "kernelspec": {
      "display_name": "Python 3",
      "language": "python",
      "name": "python3"
    },
    "language_info": {
      "codemirror_mode": {
        "name": "ipython",
        "version": 3
      },
      "file_extension": ".py",
      "mimetype": "text/x-python",
      "name": "python",
      "nbconvert_exporter": "python",
      "pygments_lexer": "ipython3",
      "version": "3.6.6"
    },
    "colab": {
      "name": "image color filter.ipynb",
      "provenance": [],
      "include_colab_link": true
    }
  },
  "cells": [
    {
      "cell_type": "markdown",
      "metadata": {
        "id": "view-in-github",
        "colab_type": "text"
      },
      "source": [
        "<a href=\"https://colab.research.google.com/github/reechakumari/Python_Code/blob/master/image_color_filter.ipynb\" target=\"_parent\"><img src=\"https://colab.research.google.com/assets/colab-badge.svg\" alt=\"Open In Colab\"/></a>"
      ]
    },
    {
      "cell_type": "code",
      "metadata": {
        "id": "Nv-Ow3CfgIXt"
      },
      "source": [
        "import numpy"
      ],
      "execution_count": null,
      "outputs": []
    },
    {
      "cell_type": "code",
      "metadata": {
        "id": "qopDc6-WgIXw"
      },
      "source": [
        "a = numpy.array([1,2,3])"
      ],
      "execution_count": null,
      "outputs": []
    },
    {
      "cell_type": "code",
      "metadata": {
        "id": "m7DGLcJsgIXx",
        "outputId": "7767d258-a772-42a5-8cf1-76ea430afab4"
      },
      "source": [
        "a"
      ],
      "execution_count": null,
      "outputs": [
        {
          "output_type": "execute_result",
          "data": {
            "text/plain": [
              "array([1, 2, 3])"
            ]
          },
          "metadata": {
            "tags": []
          },
          "execution_count": 3
        }
      ]
    },
    {
      "cell_type": "code",
      "metadata": {
        "id": "FLK0zm5XgIX2",
        "outputId": "c14ac1ea-d5f9-419d-f041-8e7ac2306ead"
      },
      "source": [
        "type(a)"
      ],
      "execution_count": null,
      "outputs": [
        {
          "output_type": "execute_result",
          "data": {
            "text/plain": [
              "numpy.ndarray"
            ]
          },
          "metadata": {
            "tags": []
          },
          "execution_count": 4
        }
      ]
    },
    {
      "cell_type": "code",
      "metadata": {
        "id": "ywNhYvZEgIX3",
        "outputId": "3cb7d8cc-fe36-402d-8de4-b7a5111ba520"
      },
      "source": [
        "a.shape"
      ],
      "execution_count": null,
      "outputs": [
        {
          "output_type": "execute_result",
          "data": {
            "text/plain": [
              "(3,)"
            ]
          },
          "metadata": {
            "tags": []
          },
          "execution_count": 5
        }
      ]
    },
    {
      "cell_type": "code",
      "metadata": {
        "id": "-1BQyrGkgIX5"
      },
      "source": [
        "b = numpy.zeros( [100,20,3], dtype=numpy.uint8 )"
      ],
      "execution_count": null,
      "outputs": []
    },
    {
      "cell_type": "code",
      "metadata": {
        "id": "BGH371q6gIX6",
        "outputId": "a6f60fc1-ad52-4172-abde-a212991f3518"
      },
      "source": [
        "type(b)"
      ],
      "execution_count": null,
      "outputs": [
        {
          "output_type": "execute_result",
          "data": {
            "text/plain": [
              "numpy.ndarray"
            ]
          },
          "metadata": {
            "tags": []
          },
          "execution_count": 40
        }
      ]
    },
    {
      "cell_type": "code",
      "metadata": {
        "id": "gnZ0F6StgIX7",
        "outputId": "54d3d5d0-16f9-4d60-f277-958302faf12e"
      },
      "source": [
        "b.shape"
      ],
      "execution_count": null,
      "outputs": [
        {
          "output_type": "execute_result",
          "data": {
            "text/plain": [
              "(100, 20, 3)"
            ]
          },
          "metadata": {
            "tags": []
          },
          "execution_count": 45
        }
      ]
    },
    {
      "cell_type": "code",
      "metadata": {
        "id": "Gk5ECypmgIX8",
        "outputId": "63e712e4-44cd-466e-bc67-e466f012c8ac"
      },
      "source": [
        "b"
      ],
      "execution_count": null,
      "outputs": [
        {
          "output_type": "execute_result",
          "data": {
            "text/plain": [
              "array([[[0, 0, 0],\n",
              "        [0, 0, 0],\n",
              "        [0, 0, 0],\n",
              "        ...,\n",
              "        [0, 0, 0],\n",
              "        [0, 0, 0],\n",
              "        [0, 0, 0]],\n",
              "\n",
              "       [[0, 0, 0],\n",
              "        [0, 0, 0],\n",
              "        [0, 0, 0],\n",
              "        ...,\n",
              "        [0, 0, 0],\n",
              "        [0, 0, 0],\n",
              "        [0, 0, 0]],\n",
              "\n",
              "       [[0, 0, 0],\n",
              "        [0, 0, 0],\n",
              "        [0, 0, 0],\n",
              "        ...,\n",
              "        [0, 0, 0],\n",
              "        [0, 0, 0],\n",
              "        [0, 0, 0]],\n",
              "\n",
              "       ...,\n",
              "\n",
              "       [[0, 0, 0],\n",
              "        [0, 0, 0],\n",
              "        [0, 0, 0],\n",
              "        ...,\n",
              "        [0, 0, 0],\n",
              "        [0, 0, 0],\n",
              "        [0, 0, 0]],\n",
              "\n",
              "       [[0, 0, 0],\n",
              "        [0, 0, 0],\n",
              "        [0, 0, 0],\n",
              "        ...,\n",
              "        [0, 0, 0],\n",
              "        [0, 0, 0],\n",
              "        [0, 0, 0]],\n",
              "\n",
              "       [[0, 0, 0],\n",
              "        [0, 0, 0],\n",
              "        [0, 0, 0],\n",
              "        ...,\n",
              "        [0, 0, 0],\n",
              "        [0, 0, 0],\n",
              "        [0, 0, 0]]], dtype=uint8)"
            ]
          },
          "metadata": {
            "tags": []
          },
          "execution_count": 46
        }
      ]
    },
    {
      "cell_type": "code",
      "metadata": {
        "id": "FsJktuEagIX9"
      },
      "source": [
        ""
      ],
      "execution_count": null,
      "outputs": []
    },
    {
      "cell_type": "code",
      "metadata": {
        "id": "JqGhFDfLgIX9"
      },
      "source": [
        "cv2.imshow('hi', b)\n",
        "cv2.waitKey()\n",
        "cv2.destroyAllWindows()"
      ],
      "execution_count": null,
      "outputs": []
    },
    {
      "cell_type": "code",
      "metadata": {
        "id": "AlOC-6HvgIX-"
      },
      "source": [
        "import cv2"
      ],
      "execution_count": null,
      "outputs": []
    },
    {
      "cell_type": "code",
      "metadata": {
        "id": "2wui5YmmgIX-"
      },
      "source": [
        "cap  = cv2.VideoCapture(0)"
      ],
      "execution_count": null,
      "outputs": []
    },
    {
      "cell_type": "code",
      "metadata": {
        "id": "KQn0IELzgIX-"
      },
      "source": [
        "ret, photo = cap.read()"
      ],
      "execution_count": null,
      "outputs": []
    },
    {
      "cell_type": "code",
      "metadata": {
        "id": "O7VXYeGVgIX-",
        "outputId": "f3c0f0af-404d-48ea-e03d-445e16c78524"
      },
      "source": [
        "ret"
      ],
      "execution_count": null,
      "outputs": [
        {
          "output_type": "execute_result",
          "data": {
            "text/plain": [
              "True"
            ]
          },
          "metadata": {
            "tags": []
          },
          "execution_count": 23
        }
      ]
    },
    {
      "cell_type": "code",
      "metadata": {
        "id": "fXl27cEWgIX_"
      },
      "source": [
        "cv2.imshow('hi', photo)\n",
        "cv2.waitKey()\n",
        "cv2.destroyAllWindows()"
      ],
      "execution_count": null,
      "outputs": []
    },
    {
      "cell_type": "code",
      "metadata": {
        "id": "ELNrQLXzgIX_"
      },
      "source": [
        "cap.release()"
      ],
      "execution_count": null,
      "outputs": []
    },
    {
      "cell_type": "code",
      "metadata": {
        "id": "VK_5PzKYgIYA",
        "outputId": "50f75c07-eea2-4136-fdd8-ce4091f76d09"
      },
      "source": [
        "type(photo)"
      ],
      "execution_count": null,
      "outputs": [
        {
          "output_type": "execute_result",
          "data": {
            "text/plain": [
              "numpy.ndarray"
            ]
          },
          "metadata": {
            "tags": []
          },
          "execution_count": 26
        }
      ]
    },
    {
      "cell_type": "code",
      "metadata": {
        "id": "QNWy7pekgIYB",
        "outputId": "c125d5ee-3eb9-4307-8ded-e008cb88df09"
      },
      "source": [
        "photo.shape"
      ],
      "execution_count": null,
      "outputs": [
        {
          "output_type": "execute_result",
          "data": {
            "text/plain": [
              "(480, 640, 3)"
            ]
          },
          "metadata": {
            "tags": []
          },
          "execution_count": 27
        }
      ]
    },
    {
      "cell_type": "code",
      "metadata": {
        "id": "1XjmnrzEgIYB"
      },
      "source": [
        "photo[0][0] = [26,0,0]"
      ],
      "execution_count": null,
      "outputs": []
    },
    {
      "cell_type": "code",
      "metadata": {
        "id": "EArq2c4kgIYB",
        "outputId": "a778bd3e-509c-461e-d357-e0a5f86fdd92"
      },
      "source": [
        "photo"
      ],
      "execution_count": null,
      "outputs": [
        {
          "output_type": "execute_result",
          "data": {
            "text/plain": [
              "array([[[ 26,   0,   0],\n",
              "        [ 27,  32,  30],\n",
              "        [ 27,  32,  30],\n",
              "        ...,\n",
              "        [ 35,  37,  38],\n",
              "        [ 36,  35,  37],\n",
              "        [ 35,  34,  36]],\n",
              "\n",
              "       [[ 26,  31,  29],\n",
              "        [ 27,  32,  30],\n",
              "        [ 27,  32,  30],\n",
              "        ...,\n",
              "        [ 36,  38,  39],\n",
              "        [ 35,  37,  38],\n",
              "        [ 33,  35,  36]],\n",
              "\n",
              "       [[ 26,  31,  29],\n",
              "        [ 27,  32,  30],\n",
              "        [ 27,  32,  30],\n",
              "        ...,\n",
              "        [ 35,  39,  40],\n",
              "        [ 34,  38,  39],\n",
              "        [ 32,  36,  37]],\n",
              "\n",
              "       ...,\n",
              "\n",
              "       [[121, 138, 129],\n",
              "        [114, 133, 124],\n",
              "        [107, 126, 117],\n",
              "        ...,\n",
              "        [ 20,  24,  19],\n",
              "        [ 20,  24,  19],\n",
              "        [ 21,  25,  20]],\n",
              "\n",
              "       [[129, 162, 147],\n",
              "        [123, 156, 141],\n",
              "        [115, 148, 134],\n",
              "        ...,\n",
              "        [ 19,  23,  18],\n",
              "        [ 20,  24,  19],\n",
              "        [ 21,  25,  20]],\n",
              "\n",
              "       [[123, 165, 147],\n",
              "        [124, 166, 148],\n",
              "        [127, 166, 150],\n",
              "        ...,\n",
              "        [ 19,  23,  18],\n",
              "        [ 21,  25,  20],\n",
              "        [ 21,  25,  20]]], dtype=uint8)"
            ]
          },
          "metadata": {
            "tags": []
          },
          "execution_count": 31
        }
      ]
    },
    {
      "cell_type": "code",
      "metadata": {
        "id": "Gah8dfR0gIYC"
      },
      "source": [
        "b , g , r = cv2.split(photo)"
      ],
      "execution_count": null,
      "outputs": []
    },
    {
      "cell_type": "code",
      "metadata": {
        "id": "ixQmoYKBgIYC"
      },
      "source": [
        "newphoto = cv2.merge( [b , g , r] )"
      ],
      "execution_count": null,
      "outputs": []
    },
    {
      "cell_type": "code",
      "metadata": {
        "id": "Yjkyh1fQgIYC"
      },
      "source": [
        "cv2.imshow('hi', newphoto)\n",
        "cv2.waitKey()\n",
        "cv2.destroyAllWindows()"
      ],
      "execution_count": null,
      "outputs": []
    },
    {
      "cell_type": "code",
      "metadata": {
        "id": "oW5Su8UngIYC"
      },
      "source": [
        ""
      ],
      "execution_count": null,
      "outputs": []
    },
    {
      "cell_type": "code",
      "metadata": {
        "id": "W7r7QRjugIYC"
      },
      "source": [
        "b , g , r = cv2.split(photo)"
      ],
      "execution_count": null,
      "outputs": []
    },
    {
      "cell_type": "code",
      "metadata": {
        "id": "hrEWpWZFgIYC",
        "outputId": "f860e9f1-e85d-4e9d-af30-3a8841e52f4b"
      },
      "source": [
        "r.shape"
      ],
      "execution_count": null,
      "outputs": [
        {
          "output_type": "execute_result",
          "data": {
            "text/plain": [
              "(480, 640)"
            ]
          },
          "metadata": {
            "tags": []
          },
          "execution_count": 58
        }
      ]
    },
    {
      "cell_type": "code",
      "metadata": {
        "id": "NoxD4BcngIYD"
      },
      "source": [
        "myzeros =  numpy.zeros([480, 640], dtype=numpy.uint8)"
      ],
      "execution_count": null,
      "outputs": []
    },
    {
      "cell_type": "code",
      "metadata": {
        "id": "HuvX-eyDgIYD"
      },
      "source": [
        "red_image = cv2.merge([myzeros , myzeros, r ])"
      ],
      "execution_count": null,
      "outputs": []
    },
    {
      "cell_type": "code",
      "metadata": {
        "id": "OEoEKdOkgIYD"
      },
      "source": [
        "cv2.imshow('hi', red_image)\n",
        "cv2.waitKey()\n",
        "cv2.destroyAllWindows()"
      ],
      "execution_count": null,
      "outputs": []
    },
    {
      "cell_type": "code",
      "metadata": {
        "id": "vOZQFODGgIYD"
      },
      "source": [
        "blue_image = cv2.merge([b , myzeros , myzeros])"
      ],
      "execution_count": null,
      "outputs": []
    },
    {
      "cell_type": "code",
      "metadata": {
        "id": "Yl-6Qe5ZgIYD"
      },
      "source": [
        "cv2.imshow('hi', blue_image)\n",
        "cv2.waitKey()\n",
        "cv2.destroyAllWindows()"
      ],
      "execution_count": null,
      "outputs": []
    },
    {
      "cell_type": "code",
      "metadata": {
        "id": "xTa7weoNgIYD"
      },
      "source": [
        "cap.release()"
      ],
      "execution_count": null,
      "outputs": []
    },
    {
      "cell_type": "code",
      "metadata": {
        "id": "ShDJQ3Q-gIYD"
      },
      "source": [
        ""
      ],
      "execution_count": null,
      "outputs": []
    }
  ]
}