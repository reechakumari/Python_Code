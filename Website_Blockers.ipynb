{
  "nbformat": 4,
  "nbformat_minor": 0,
  "metadata": {
    "colab": {
      "name": "Website_Blockers.ipynb",
      "provenance": [],
      "collapsed_sections": [],
      "authorship_tag": "ABX9TyM0uSLIcs1V0bSuhp1Y8cF6",
      "include_colab_link": true
    },
    "kernelspec": {
      "name": "python3",
      "display_name": "Python 3"
    },
    "language_info": {
      "name": "python"
    }
  },
  "cells": [
    {
      "cell_type": "markdown",
      "metadata": {
        "id": "view-in-github",
        "colab_type": "text"
      },
      "source": [
        "<a href=\"https://colab.research.google.com/github/reechakumari/Python_Code/blob/master/Website_Blockers.ipynb\" target=\"_parent\"><img src=\"https://colab.research.google.com/assets/colab-badge.svg\" alt=\"Open In Colab\"/></a>"
      ]
    },
    {
      "cell_type": "code",
      "metadata": {
        "id": "fV9cNSNyeN2F"
      },
      "source": [
        "import time \n",
        "from datetime import datetime as dt"
      ],
      "execution_count": 5,
      "outputs": []
    },
    {
      "cell_type": "code",
      "metadata": {
        "id": "x21nA27heTKc"
      },
      "source": [
        "sites_to_block = [\n",
        "    \"www.facebook.com\",\n",
        "    \"facebook.com\",\n",
        "    \"www.youtube.com\",\n",
        "    \"youtube.com\",\n",
        "    \"www.gmail.com\",\n",
        "    \"gmail.com\",\n",
        "]"
      ],
      "execution_count": 6,
      "outputs": []
    },
    {
      "cell_type": "code",
      "metadata": {
        "id": "d_XKy90zerxs"
      },
      "source": [
        "Linux_host = \"/etc/hosts\"\n",
        "Window_host = r\"C:\\Windows\\System32\\drivers\\etc\\hosts\"\n",
        "default_hoster = Linux_host\n",
        "redirect = \"127.0.0.1\""
      ],
      "execution_count": 8,
      "outputs": []
    },
    {
      "cell_type": "code",
      "metadata": {
        "colab": {
          "base_uri": "https://localhost:8080/"
        },
        "id": "K0EckVdHevBm",
        "outputId": "7f94a978-25fd-47b3-8c89-f730f012f63b"
      },
      "source": [
        "def block_websites(start_hour, end_hour):\n",
        "    while True:\n",
        "        if (\n",
        "            dt(dt.now().year, dt.now().month, dt.now().day, start_hour)\n",
        "            < dt.now()\n",
        "            < dt(dt.now().year, dt.now().month, dt.now().day, end_hour)\n",
        "        ):\n",
        "            print(\"Do the work ....\")\n",
        "            with open(default_hoster, \"r+\") as hostfile:\n",
        "                hosts = hostfile.read()\n",
        "                for site in sites_to_block:\n",
        "                    if site not in hosts:\n",
        "                        hostfile.write(redirect + \" \" + site + \"\\n\")\n",
        "        else:\n",
        "            with open(default_hoster, \"r+\") as hostfile:\n",
        "                hosts = hostfile.readlines()\n",
        "                hostfile.seek(0)\n",
        "                for host in hosts:\n",
        "                    if not any(site in host for site in sites_to_block):\n",
        "                        hostfile.write(host)\n",
        "                hostfile.truncate()\n",
        "            print(\"Good Time\")\n",
        "        time.sleep(3)\n",
        "\n",
        "\n",
        "if __name__ == \"__main__\":\n",
        "    block_websites(9, 10)"
      ],
      "execution_count": null,
      "outputs": [
        {
          "output_type": "stream",
          "name": "stdout",
          "text": [
            "Do the work ....\n",
            "Do the work ....\n",
            "Do the work ....\n",
            "Do the work ....\n",
            "Do the work ....\n",
            "Do the work ....\n",
            "Do the work ....\n",
            "Do the work ....\n",
            "Do the work ....\n",
            "Do the work ....\n",
            "Do the work ....\n",
            "Do the work ....\n",
            "Do the work ....\n",
            "Do the work ....\n",
            "Do the work ....\n",
            "Do the work ....\n",
            "Do the work ....\n",
            "Do the work ....\n",
            "Do the work ....\n",
            "Do the work ....\n",
            "Do the work ....\n",
            "Do the work ....\n",
            "Do the work ....\n",
            "Do the work ....\n",
            "Do the work ....\n",
            "Do the work ....\n",
            "Do the work ....\n",
            "Do the work ....\n",
            "Do the work ....\n",
            "Do the work ....\n",
            "Do the work ....\n",
            "Do the work ....\n",
            "Do the work ....\n",
            "Do the work ....\n",
            "Do the work ....\n",
            "Do the work ....\n",
            "Do the work ....\n",
            "Do the work ....\n",
            "Do the work ....\n",
            "Do the work ....\n",
            "Do the work ....\n",
            "Do the work ....\n",
            "Do the work ....\n",
            "Do the work ....\n",
            "Do the work ....\n",
            "Do the work ....\n",
            "Do the work ....\n",
            "Do the work ....\n",
            "Do the work ....\n",
            "Do the work ....\n",
            "Do the work ....\n",
            "Do the work ....\n",
            "Do the work ....\n",
            "Do the work ....\n",
            "Do the work ....\n",
            "Do the work ....\n",
            "Do the work ....\n",
            "Do the work ....\n",
            "Do the work ....\n",
            "Do the work ....\n",
            "Do the work ....\n",
            "Do the work ....\n",
            "Do the work ....\n",
            "Do the work ....\n",
            "Do the work ....\n",
            "Do the work ....\n",
            "Do the work ....\n",
            "Do the work ....\n",
            "Do the work ....\n",
            "Do the work ....\n",
            "Do the work ....\n",
            "Do the work ....\n",
            "Do the work ....\n",
            "Do the work ....\n",
            "Do the work ....\n",
            "Do the work ....\n",
            "Do the work ....\n",
            "Do the work ....\n",
            "Do the work ....\n",
            "Do the work ....\n",
            "Do the work ....\n",
            "Do the work ....\n",
            "Do the work ....\n",
            "Do the work ....\n",
            "Do the work ....\n",
            "Do the work ....\n",
            "Do the work ....\n",
            "Do the work ....\n",
            "Do the work ....\n",
            "Do the work ....\n"
          ]
        }
      ]
    },
    {
      "cell_type": "code",
      "metadata": {
        "id": "RoqmOSG8e8fK"
      },
      "source": [
        "# create website blockers for restraining pushy ads by creating this Python project.\n",
        "# Remember, when you code this, you can add the sites you need to block by editing sites_to_block, \n",
        "# change the host, or edit the time when you need to block the sites.\"\"\""
      ],
      "execution_count": null,
      "outputs": []
    }
  ]
}