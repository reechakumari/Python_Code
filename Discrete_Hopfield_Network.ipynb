{
  "nbformat": 4,
  "nbformat_minor": 0,
  "metadata": {
    "colab": {
      "name": "Discrete Hopfield Network.ipynb",
      "provenance": [],
      "authorship_tag": "ABX9TyN63ZUoadGTibex5GtgybT9",
      "include_colab_link": true
    },
    "kernelspec": {
      "name": "python3",
      "display_name": "Python 3"
    }
  },
  "cells": [
    {
      "cell_type": "markdown",
      "metadata": {
        "id": "view-in-github",
        "colab_type": "text"
      },
      "source": [
        "<a href=\"https://colab.research.google.com/github/reechakumari/Python_Code/blob/master/Discrete_Hopfield_Network.ipynb\" target=\"_parent\"><img src=\"https://colab.research.google.com/assets/colab-badge.svg\" alt=\"Open In Colab\"/></a>"
      ]
    },
    {
      "cell_type": "code",
      "metadata": {
        "colab": {
          "base_uri": "https://localhost:8080/"
        },
        "id": "2YL1h_1xgWqg",
        "outputId": "2df55164-045c-4449-fc46-5f3126eb0d5d"
      },
      "source": [
        "import numpy as np\n",
        "x=np.array([[1,1,1,1,1],[1,-1,-1,1,-1],[-1,1,-1,-1,-1]])\n",
        "\n",
        "print(\"x matrix:\")\n",
        "print(x)\n",
        "x1=np.transpose(x)\n",
        "print(\"\\nx1 is the transpose matrix of matrix x:\")\n",
        "print(x1)\n",
        "\n",
        "w=np.zeros((5,5))\n",
        "print(\"\\nW matrix initially: \")\n",
        "print(w)\n",
        "\n",
        "i=0\n",
        "j=0\n",
        "k=0\n",
        "for i in range(len(x1)):\n",
        "  for j in range(len(x[0])):\n",
        "    for k in range(len(x)):\n",
        "      w[i][j] += x1[i][k] * x[k][j]\n",
        "\n",
        "print('\\nWeight Matrix:')\n",
        "for r in w:\n",
        "  print(r)\n",
        "\n",
        "print('\\nWeight Matrix with no self connection:')\n",
        "i=0\n",
        "j=0\n",
        "for i in range(int(5)):\n",
        "  for j in range(int(5)):\n",
        "    if(i==j):\n",
        "      w[i][j]=0\n",
        "\n",
        "for r in w:\n",
        "  print(r)"
      ],
      "execution_count": 73,
      "outputs": [
        {
          "output_type": "stream",
          "text": [
            "x matrix:\n",
            "[[ 1  1  1  1  1]\n",
            " [ 1 -1 -1  1 -1]\n",
            " [-1  1 -1 -1 -1]]\n",
            "\n",
            "x1 is the transpose matrix of matrix x:\n",
            "[[ 1  1 -1]\n",
            " [ 1 -1  1]\n",
            " [ 1 -1 -1]\n",
            " [ 1  1 -1]\n",
            " [ 1 -1 -1]]\n",
            "\n",
            "W matrix initially: \n",
            "[[0. 0. 0. 0. 0.]\n",
            " [0. 0. 0. 0. 0.]\n",
            " [0. 0. 0. 0. 0.]\n",
            " [0. 0. 0. 0. 0.]\n",
            " [0. 0. 0. 0. 0.]]\n",
            "\n",
            "Weight Matrix:\n",
            "[ 3. -1.  1.  3.  1.]\n",
            "[-1.  3.  1. -1.  1.]\n",
            "[1. 1. 3. 1. 3.]\n",
            "[ 3. -1.  1.  3.  1.]\n",
            "[1. 1. 3. 1. 3.]\n",
            "\n",
            "Weight Matrix with no self connection:\n",
            "[ 0. -1.  1.  3.  1.]\n",
            "[-1.  0.  1. -1.  1.]\n",
            "[1. 1. 0. 1. 3.]\n",
            "[ 3. -1.  1.  0.  1.]\n",
            "[1. 1. 3. 1. 0.]\n"
          ],
          "name": "stdout"
        }
      ]
    },
    {
      "cell_type": "code",
      "metadata": {
        "colab": {
          "base_uri": "https://localhost:8080/"
        },
        "id": "MApv9j6aiM5Z",
        "outputId": "573ab2fd-8d0f-4b20-c77f-94c9e924ce48"
      },
      "source": [
        "E1=0\n",
        "E2=0\n",
        "E3=0\n",
        "x11= x[0].reshape(5,1)\n",
        "x12=x[1].reshape(5,1)\n",
        "x13=x[2].reshape(5,1)\n",
        "print(\"\\nReshape of x[0]:\")\n",
        "print(x11)\n",
        "print(\"\\nReshape of x[1]:\")\n",
        "print(x12)\n",
        "print(\"\\nReshape of x[2]:\")\n",
        "print(x13)\n",
        "\n",
        "E1= -0.5 * np.matmul(x[0],np.matmul(w,x11))\n",
        "print('\\nEnergy Calculations for pattern [1,1,1,1,1]:',E1)\n",
        "\n",
        "E2= -0.5 * np.matmul(x[1],np.matmul(w,x12))\n",
        "print('\\nEnergy Calculations for pattern [1,-1,-1,1,-1]:',E2)\n",
        "\n",
        "E3= -0.5 * np.matmul(x[2],np.matmul(w,x13))\n",
        "print('\\nEnergy Calculations for pattern [-1,1,-1,1,-1]:',E3)"
      ],
      "execution_count": 74,
      "outputs": [
        {
          "output_type": "stream",
          "text": [
            "\n",
            "Reshape of x[0]:\n",
            "[[1]\n",
            " [1]\n",
            " [1]\n",
            " [1]\n",
            " [1]]\n",
            "\n",
            "Reshape of x[1]:\n",
            "[[ 1]\n",
            " [-1]\n",
            " [-1]\n",
            " [ 1]\n",
            " [-1]]\n",
            "\n",
            "Reshape of x[2]:\n",
            "[[-1]\n",
            " [ 1]\n",
            " [-1]\n",
            " [-1]\n",
            " [-1]]\n",
            "\n",
            "Energy Calculations for pattern [1,1,1,1,1]: [-10.]\n",
            "\n",
            "Energy Calculations for pattern [1,-1,-1,1,-1]: [-6.]\n",
            "\n",
            "Energy Calculations for pattern [-1,1,-1,1,-1]: [-10.]\n"
          ],
          "name": "stdout"
        }
      ]
    },
    {
      "cell_type": "code",
      "metadata": {
        "colab": {
          "base_uri": "https://localhost:8080/"
        },
        "id": "agXmY1oCi6Hb",
        "outputId": "229ec8c5-23ba-4b5b-f3d3-9c75eb7d9cfe"
      },
      "source": [
        "print('\\n\\nTESTING PHASE')\n",
        "t1=np.array([[1,1,1,-1,1]])\n",
        "t2=np.array([[1,-1,-1,-1,-1]])\n",
        "t3=np.array([[1,1,-1,-1,-1]])\n",
        "\n",
        "print(\"\\nt1 matrix:\",t1)\n",
        "print(\"\\nt2 matrix:\",t2)\n",
        "print(\"\\nt3 matrix:\",t3)"
      ],
      "execution_count": 75,
      "outputs": [
        {
          "output_type": "stream",
          "text": [
            "\n",
            "\n",
            "TESTING PHASE\n",
            "\n",
            "t1 matrix: [[ 1  1  1 -1  1]]\n",
            "\n",
            "t2 matrix: [[ 1 -1 -1 -1 -1]]\n",
            "\n",
            "t3 matrix: [[ 1  1 -1 -1 -1]]\n"
          ],
          "name": "stdout"
        }
      ]
    },
    {
      "cell_type": "code",
      "metadata": {
        "colab": {
          "base_uri": "https://localhost:8080/"
        },
        "id": "mEvX-euujT2Q",
        "outputId": "3f320414-7b49-4ae8-d6e6-04a25abd7886"
      },
      "source": [
        "w_Trans=np.transpose(w)\n",
        "print(w_Trans)\n"
      ],
      "execution_count": 76,
      "outputs": [
        {
          "output_type": "stream",
          "text": [
            "[[ 0. -1.  1.  3.  1.]\n",
            " [-1.  0.  1. -1.  1.]\n",
            " [ 1.  1.  0.  1.  3.]\n",
            " [ 3. -1.  1.  0.  1.]\n",
            " [ 1.  1.  3.  1.  0.]]\n"
          ],
          "name": "stdout"
        }
      ]
    },
    {
      "cell_type": "code",
      "metadata": {
        "colab": {
          "base_uri": "https://localhost:8080/"
        },
        "id": "hcM8C9g3mBzK",
        "outputId": "36a4edcd-9b33-478f-bbdb-c651fe1da076"
      },
      "source": [
        "print(t1)"
      ],
      "execution_count": 77,
      "outputs": [
        {
          "output_type": "stream",
          "text": [
            "[[ 1  1  1 -1  1]]\n"
          ],
          "name": "stdout"
        }
      ]
    },
    {
      "cell_type": "code",
      "metadata": {
        "colab": {
          "base_uri": "https://localhost:8080/"
        },
        "id": "LrrpdzyvqhY-",
        "outputId": "10b0a3ef-d78b-42a4-f5b6-348e79c1a89f"
      },
      "source": [
        "print(x)"
      ],
      "execution_count": 78,
      "outputs": [
        {
          "output_type": "stream",
          "text": [
            "[[ 1  1  1  1  1]\n",
            " [ 1 -1 -1  1 -1]\n",
            " [-1  1 -1 -1 -1]]\n"
          ],
          "name": "stdout"
        }
      ]
    },
    {
      "cell_type": "code",
      "metadata": {
        "colab": {
          "base_uri": "https://localhost:8080/"
        },
        "id": "PVnvY4_NlAXs",
        "outputId": "8f511c10-1991-47ef-de39-e6d9cd4d4701"
      },
      "source": [
        "Y_t1=t1[0][3]+ np.matmul(x[0],w_Trans[3])\n",
        "if(Y_t1>0):\n",
        "  t1[0][3]=1\n",
        "else:\n",
        "  t1[0][3]=-1\n",
        "\n",
        "if((t1==x).any()):\n",
        "  print('\\nPattern [1,1,1,-1,1] Recognized ')\n",
        "else:\n",
        "  print('\\nPattern [1,1,1,-1,1] not Recognized ')"
      ],
      "execution_count": 81,
      "outputs": [
        {
          "output_type": "stream",
          "text": [
            "\n",
            "Pattern [1,1,1,-1,1] Recognized \n"
          ],
          "name": "stdout"
        }
      ]
    },
    {
      "cell_type": "code",
      "metadata": {
        "colab": {
          "base_uri": "https://localhost:8080/"
        },
        "id": "Pw_0VDyTq5sU",
        "outputId": "3c1e3d0c-eabe-4958-d2e7-97d8bf0bbcb3"
      },
      "source": [
        "print(t1)"
      ],
      "execution_count": 82,
      "outputs": [
        {
          "output_type": "stream",
          "text": [
            "[[1 1 1 1 1]]\n"
          ],
          "name": "stdout"
        }
      ]
    },
    {
      "cell_type": "code",
      "metadata": {
        "colab": {
          "base_uri": "https://localhost:8080/"
        },
        "id": "FhD0z8NlrEqt",
        "outputId": "74e00c24-f5f3-4a3d-8bf1-f1fadcedc519"
      },
      "source": [
        "print(t2)"
      ],
      "execution_count": 87,
      "outputs": [
        {
          "output_type": "stream",
          "text": [
            "[[ 1 -1 -1 -1 -1]]\n"
          ],
          "name": "stdout"
        }
      ]
    },
    {
      "cell_type": "code",
      "metadata": {
        "colab": {
          "base_uri": "https://localhost:8080/"
        },
        "id": "RJha1pZHrIW2",
        "outputId": "d7e7a7ef-ccd6-4bc3-fe36-3df093a092f8"
      },
      "source": [
        "print(x)"
      ],
      "execution_count": 88,
      "outputs": [
        {
          "output_type": "stream",
          "text": [
            "[[ 1  1  1  1  1]\n",
            " [ 1 -1 -1  1 -1]\n",
            " [-1  1 -1 -1 -1]]\n"
          ],
          "name": "stdout"
        }
      ]
    },
    {
      "cell_type": "code",
      "metadata": {
        "colab": {
          "base_uri": "https://localhost:8080/"
        },
        "id": "laIe_b2-lEAo",
        "outputId": "5a705daa-ae9f-403c-e05c-dfcb69d2312f"
      },
      "source": [
        "Y_t2=t2[0][3]+ np.matmul(x[1],w_Trans[3])\n",
        "if(Y_t2>0):\n",
        "  t2[0][3]=1\n",
        "else:\n",
        "  t2[0][3]=-1\n",
        "\n",
        "if((t2==x).any()):\n",
        "  print('\\nPattern [1,-1,-1,-1,-1] Recognized ')\n",
        "else:\n",
        "  print('\\nPattern [1,-1,-1,-1,-1] not Recognized ')"
      ],
      "execution_count": 90,
      "outputs": [
        {
          "output_type": "stream",
          "text": [
            "\n",
            "Pattern [1,-1,-1,-1,-1] Recognized \n"
          ],
          "name": "stdout"
        }
      ]
    },
    {
      "cell_type": "code",
      "metadata": {
        "colab": {
          "base_uri": "https://localhost:8080/"
        },
        "id": "_rF24f0QrLHH",
        "outputId": "d7a0952c-1792-407f-d04f-c2da33731095"
      },
      "source": [
        "print(t2)"
      ],
      "execution_count": 91,
      "outputs": [
        {
          "output_type": "stream",
          "text": [
            "[[ 1 -1 -1  1 -1]]\n"
          ],
          "name": "stdout"
        }
      ]
    },
    {
      "cell_type": "code",
      "metadata": {
        "colab": {
          "base_uri": "https://localhost:8080/"
        },
        "id": "sVS1P914rhP2",
        "outputId": "6142d51b-02f3-4226-a0eb-cd1dd3bbe4eb"
      },
      "source": [
        "print(t3)"
      ],
      "execution_count": 95,
      "outputs": [
        {
          "output_type": "stream",
          "text": [
            "[[-1  1 -1 -1 -1]]\n"
          ],
          "name": "stdout"
        }
      ]
    },
    {
      "cell_type": "code",
      "metadata": {
        "colab": {
          "base_uri": "https://localhost:8080/"
        },
        "id": "RVIg1sWjri1f",
        "outputId": "e8411171-6741-4c2b-fe26-77701389fcac"
      },
      "source": [
        "print(x)"
      ],
      "execution_count": 96,
      "outputs": [
        {
          "output_type": "stream",
          "text": [
            "[[ 1  1  1  1  1]\n",
            " [ 1 -1 -1  1 -1]\n",
            " [-1  1 -1 -1 -1]]\n"
          ],
          "name": "stdout"
        }
      ]
    },
    {
      "cell_type": "code",
      "metadata": {
        "colab": {
          "base_uri": "https://localhost:8080/"
        },
        "id": "qd-Dkasxli_-",
        "outputId": "8b262206-7c47-41ce-93af-52db602ae230"
      },
      "source": [
        "Y_t3=t3[0][0]+ np.matmul(x[2],w_Trans[0])\n",
        "if(Y_t3>0):\n",
        "  t3[0][0]=1\n",
        "else:\n",
        "  t3[0][0]=-1\n",
        "\n",
        "if((t3==x).any()):\n",
        "  print('\\nPattern [1,1,-1,-1,-1] Recognized ')\n",
        "else:\n",
        "  print('\\nPattern [1,1,-1,-1,-1] not Recognized ')"
      ],
      "execution_count": 101,
      "outputs": [
        {
          "output_type": "stream",
          "text": [
            "\n",
            "Pattern [1,1,-1,-1,-1] Recognized \n"
          ],
          "name": "stdout"
        }
      ]
    },
    {
      "cell_type": "code",
      "metadata": {
        "colab": {
          "base_uri": "https://localhost:8080/"
        },
        "id": "__Jm7DR3rrZ0",
        "outputId": "2e0d6c3b-0f91-4a52-d772-737014c17f72"
      },
      "source": [
        "print(t3)"
      ],
      "execution_count": 104,
      "outputs": [
        {
          "output_type": "stream",
          "text": [
            "[[-1  1 -1 -1 -1]]\n"
          ],
          "name": "stdout"
        }
      ]
    },
    {
      "cell_type": "code",
      "metadata": {
        "id": "rVGYf3JdtNnL"
      },
      "source": [
        ""
      ],
      "execution_count": null,
      "outputs": []
    }
  ]
}